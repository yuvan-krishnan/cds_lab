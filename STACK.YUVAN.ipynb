{
 "cells": [
  {
   "cell_type": "code",
   "execution_count": null,
   "metadata": {},
   "outputs": [],
   "source": [
    "\"\"\"\n",
    "Description : Program to implement stack\n",
    "Author : Yuvan Krishnan K\n",
    "Date : 23-08-2024\n",
    "\"\"\""
   ]
  },
  {
   "cell_type": "code",
   "execution_count": 1,
   "metadata": {},
   "outputs": [
    {
     "name": "stdout",
     "output_type": "stream",
     "text": [
      "The elements in stack are: [1, 2, 3, 4, 5]\n",
      "Element popped from stack: 5\n",
      "Element popped from stack: 4\n"
     ]
    }
   ],
   "source": [
    "class Stack:\n",
    "    def __init__(self):\n",
    "        # Initialize an empty list to store stack items\n",
    "        self.stack = []\n",
    "\n",
    "    def push(self, item):\n",
    "        # Add the item to the top of the stack\n",
    "        self.stack.append(item)\n",
    "\n",
    "    def pop(self):\n",
    "        # Remove and return the top item from the stack\n",
    "        # (The last item added)\n",
    "        if not self.is_empty():\n",
    "            return self.stack.pop()\n",
    "        else:\n",
    "            return \"Stack is empty\"\n",
    "\n",
    "    def is_empty(self):\n",
    "        # Check if the stack is empty\n",
    "        return len(self.stack) == 0\n",
    "\n",
    "    def __repr__(self):\n",
    "        # Return a string representation of the stack\n",
    "        return f\"{self.stack}\"\n",
    "\n",
    "# Example usage:\n",
    "stack = Stack()\n",
    "a = int(input(\"Enter the number of elements in the stack: \"))\n",
    "for i in range(a):\n",
    "    b = int(input(\"Enter the element to stack: \")) \n",
    "    stack.push(b) \n",
    "\n",
    "print(\"The elements in stack are:\", stack) \n",
    "\n",
    "print(\"Element popped from stack:\", stack.pop())\n",
    "print(\"Element popped from stack:\", stack.pop())\n"
   ]
  }
 ],
 "metadata": {
  "kernelspec": {
   "display_name": "base",
   "language": "python",
   "name": "python3"
  },
  "language_info": {
   "codemirror_mode": {
    "name": "ipython",
    "version": 3
   },
   "file_extension": ".py",
   "mimetype": "text/x-python",
   "name": "python",
   "nbconvert_exporter": "python",
   "pygments_lexer": "ipython3",
   "version": "3.12.4"
  }
 },
 "nbformat": 4,
 "nbformat_minor": 2
}
