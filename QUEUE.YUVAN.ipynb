{
 "cells": [
  {
   "cell_type": "code",
   "execution_count": null,
   "metadata": {},
   "outputs": [],
   "source": [
    "\"\"\"\n",
    "Description : Program to implement queue\n",
    "Author : Yuvan Krishnan K\n",
    "Date : 23-08-2024\n",
    "\"\"\""
   ]
  },
  {
   "cell_type": "code",
   "execution_count": 1,
   "metadata": {},
   "outputs": [
    {
     "name": "stdout",
     "output_type": "stream",
     "text": [
      "The queue elements are: [1, 2, 3, 4, 5]\n",
      "Eleemnt popped is 1\n",
      "Element popped is 2\n"
     ]
    }
   ],
   "source": [
    "class Queue:\n",
    "    def __init__(self):\n",
    "        # Initialize an empty list to store queue items\n",
    "        self.queue = []\n",
    "\n",
    "    def enqueue(self, item):\n",
    "        # Add the item to the back of the queue\n",
    "        self.queue.append(item)\n",
    "\n",
    "    def dequeue(self):\n",
    "        #Remove and return the front item from the queue\n",
    "        # (The first item added)\n",
    "        if not self.is_empty():\n",
    "            return self.queue.pop(0)\n",
    "        else:\n",
    "            return \"Queue is empty\"\n",
    "\n",
    "    def is_empty(self):\n",
    "        #Check if the queue is empty\n",
    "        return len(self.queue) == 0\n",
    "    \n",
    "    def __repr__(self): \n",
    "        # Return a string representation of the queue\n",
    "        return f\"{self.queue}\"\n",
    "    \n",
    "#Example usage:\n",
    "queue = Queue()\n",
    "a = int(input(\"Enter the number of elements in the queue: \"))\n",
    "for i in range(a):\n",
    "    b = int(input('Enter the number of elements in the queue: '))\n",
    "    queue.enqueue(b)\n",
    "\n",
    "print(\"The queue elements are:\",queue)\n",
    "\n",
    "if queue:\n",
    "    print(\"Element popped is\", queue.dequeue())\n",
    "    print(\"Element popped is\", queue.dequeue())\n",
    "else:\n",
    "    print(\"Queue is empty\")"
   ]
  }
 ],
 "metadata": {
  "kernelspec": {
   "display_name": "base",
   "language": "python",
   "name": "python3"
  },
  "language_info": {
   "codemirror_mode": {
    "name": "ipython",
    "version": 3
   },
   "file_extension": ".py",
   "mimetype": "text/x-python",
   "name": "python",
   "nbconvert_exporter": "python",
   "pygments_lexer": "ipython3",
   "version": "3.12.4"
  }
 },
 "nbformat": 4,
 "nbformat_minor": 2
}
